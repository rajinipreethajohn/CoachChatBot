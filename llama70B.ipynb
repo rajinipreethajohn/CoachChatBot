{
  "nbformat": 4,
  "nbformat_minor": 0,
  "metadata": {
    "colab": {
      "provenance": [],
      "mount_file_id": "1gqoMiFMcDAxBQGB7fv12AjXUXoGFZKWS",
      "authorship_tag": "ABX9TyNcocNBd8pbkD3N5D/X+OVh"
    },
    "kernelspec": {
      "name": "python3",
      "display_name": "Python 3"
    },
    "language_info": {
      "name": "python"
    }
  },
  "cells": [
    {
      "cell_type": "markdown",
      "source": [
        "#**Install Replicate**"
      ],
      "metadata": {
        "id": "2e055cNPt6QN"
      }
    },
    {
      "cell_type": "code",
      "source": [
        "# Install Replicate\n",
        "!pip install replicate"
      ],
      "metadata": {
        "id": "AWsP6Klqt4Ap"
      },
      "execution_count": null,
      "outputs": []
    },
    {
      "cell_type": "markdown",
      "source": [
        "#**Set Replicate API token**"
      ],
      "metadata": {
        "id": "5PTed_PGuOGC"
      }
    },
    {
      "cell_type": "code",
      "source": [
        "# Load API keys from a file in your Google Drive\n",
        "with open('/content/drive/MyDrive/env_vars.sh', 'r') as file:\n",
        "    api_key = file.read().strip()\n"
      ],
      "metadata": {
        "id": "uBKQGktYuK_c"
      },
      "execution_count": 15,
      "outputs": []
    },
    {
      "cell_type": "code",
      "source": [
        "# Import API key from your file\n",
        "import os\n",
        "os.environ[\"REPLICATE_API_TOKEN\"] = api_key"
      ],
      "metadata": {
        "id": "a1L2xCzbGCb1"
      },
      "execution_count": 16,
      "outputs": []
    },
    {
      "cell_type": "markdown",
      "source": [
        "#**Run the Llama 2 model**"
      ],
      "metadata": {
        "id": "8G-TxKJn0n43"
      }
    },
    {
      "cell_type": "code",
      "source": [
        "import replicate\n",
        "\n",
        "# Prompts\n",
        "pre_prompt = \"You are a helpful, respectful and honest wellness and life 'Coach'. Always answer as helpfully as possible, while being safe. Your answers should not include any harmful, unethical, racist, sexist, toxic, dangerous, or illegal content. Please ensure that your responses are socially unbiased and positive in nature. If a question does not make any sense, or is not factually coherent, explain why instead of answering something not correct. If you don't know the answer to a question, please don't share false information..\"\n",
        "prompt_input = \"How can I be more optimistic in life?\"\n",
        "\n",
        "# Generate LLM response\n",
        "output = replicate.run(\"replicate/llama-2-70b-chat:2c1608e18606fad2812020dc541930f2d0495ce32eee50074220b87300bc16e1\", # LLM model\n",
        "                        input={\"prompt\": f\"{pre_prompt} {prompt_input} Coach: \", # Prompts\n",
        "                        \"temperature\":0.1, \"top_p\":0.9, \"max_length\":128, \"repetition_penalty\":1})  # Model parameters\n",
        "\n"
      ],
      "metadata": {
        "id": "uJFZqPW20rxL"
      },
      "execution_count": 17,
      "outputs": []
    },
    {
      "cell_type": "markdown",
      "source": [
        "#**Displaying the LLM generated response**"
      ],
      "metadata": {
        "id": "kGP-SM6k2hnt"
      }
    },
    {
      "cell_type": "code",
      "source": [
        "output"
      ],
      "metadata": {
        "colab": {
          "base_uri": "https://localhost:8080/"
        },
        "id": "7MxIaA1z2jCu",
        "outputId": "eab7420a-8e1e-41e7-a7e9-37591ebe1d35"
      },
      "execution_count": 18,
      "outputs": [
        {
          "output_type": "execute_result",
          "data": {
            "text/plain": [
              "<generator object Prediction.output_iterator at 0x7f03e07c3ed0>"
            ]
          },
          "metadata": {},
          "execution_count": 18
        }
      ]
    },
    {
      "cell_type": "code",
      "source": [
        "full_response = \"\"\n",
        "\n",
        "for item in output:\n",
        "  full_response += item\n",
        "\n",
        "print(full_response)"
      ],
      "metadata": {
        "colab": {
          "base_uri": "https://localhost:8080/"
        },
        "id": "cG-WMiv12pvx",
        "outputId": "7f9a8bf1-cb1b-4fe1-d70f-99af39f034f6"
      },
      "execution_count": 19,
      "outputs": [
        {
          "output_type": "stream",
          "name": "stdout",
          "text": [
            " Great question! Optimism is a valuable mindset that can have a positive impact on many areas of your life. Here are some tips that may help you cultivate a more optimistic outlook:\n",
            "\n",
            "1. Practice Gratitude: Take time each day to reflect on the things you are thankful for. This can help shift your focus away from negative thoughts and cultivate a more positive mindset.\n",
            "2. Reframe Negative Thoughts: Challenge negative self-talk by reframing negative thoughts into positive ones. For example, instead of thinking \"This is terrible,\" try reframing it as \"This is a challenge, but I can learn and grow from it.\"\n",
            "3. Focus on the Present Moment: Rather than dwelling on the past or worrying about the future, try to stay present in the moment. Mindfulness practices, such as meditation or deep breathing, can help you stay focused and centered.\n",
            "4. Surround Yourself with Positivity: Spend time with people who uplift and support you, and avoid negative influences.\n",
            "5. Take Care of Yourself: Get enough sleep, exercise regularly, and eat a healthy diet. Taking care of your physical health can help boost your mood and energy levels.\n",
            "6. Practice Positive Affirmations: Repeat positive affirmations to yourself, such as \"I am capable and confident\" or \"I am worthy of happiness and success.\" This can help to reprogram your mind with positive thoughts and beliefs.\n",
            "7. Seek Out Positive Experiences: Engage in activities that bring you joy and make you feel good, such as hobbies, spending time with loved ones, or volunteering.\n",
            "\n",
            "Remember, becoming more optimistic takes time and practice, but it is a skill that can be developed over time. Start with small changes and be consistent in your efforts. Good luck!\n"
          ]
        }
      ]
    }
  ]
}